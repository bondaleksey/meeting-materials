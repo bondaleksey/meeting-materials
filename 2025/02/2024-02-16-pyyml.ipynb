{
 "cells": [
  {
   "cell_type": "code",
   "execution_count": 3,
   "metadata": {},
   "outputs": [
    {
     "name": "stdout",
     "output_type": "stream",
     "text": [
      "{'application': {'name': 'Complex Application', 'version': '2.1.0', 'enabled': True, 'debug': False, 'database': {'primary': {'host': 'db.example.com', 'port': 5432, 'credentials': {'username': 'admin', 'password': 'secret123'}, 'pool': {'max_connections': 100, 'timeout': 30.5}}, 'replicas': [{'host': 'replica1.example.com', 'port': 5432, 'weight': 0.7}, {'host': 'replica2.example.com', 'port': 5432, 'weight': 0.3}]}, 'cache': {'redis': [{'host': 'redis1.example.com', 'port': 6379, 'role': 'master'}, {'host': 'redis2.example.com', 'port': 6379, 'role': 'slave'}], 'memcached': {'host': 'memcached.example.com', 'port': 11211}}, 'api': {'endpoints': {'users': '/api/v1/users', 'orders': '/api/v1/orders'}, 'rate_limiting': {'enabled': True, 'rates': [{'interval': '1s', 'limit': 10}, {'interval': '1m', 'limit': 100}]}, 'authentication': {'methods': ['jwt', 'oauth2'], 'jwt_secret': b'abcdefghijklmnop', 'oauth2_providers': {'google': {'client_id': 'google-client-id', 'client_secret': 'google-client-secret'}, 'facebook': {'client_id': 'facebook-client-id', 'client_secret': 'facebook-client-secret'}}}}, 'logging': {'level': 'INFO', 'handlers': {'file': {'path': '/var/log/app.log', 'max_size': '100MB', 'backups': 5}, 'sentry': {'dsn': 'https://sentry.example.com', 'environment': 'production'}}, 'format': 'time: \"%(asctime)s\"\\nlevel: \"%(levelname)s\"\\nmessage: \"%(message)s\"\\n'}, 'queues': {'rabbitmq': {'hosts': ['rabbit1.example.com', 'rabbit2.example.com'], 'vhost': '/production', 'exchanges': {'default': {'name': 'amq.direct', 'type': 'direct'}, 'delayed': {'name': 'delayed.exchange', 'type': 'x-delayed-message'}}, 'queues': [{'name': 'notifications', 'durable': True, 'arguments': {'x-max-length': 10000}}, {'name': 'emails', 'durable': True, 'arguments': {'x-message-ttl': 3600000}}]}}, 'monitoring': {'metrics': {'prometheus': {'enabled': True, 'port': 9090, 'path': '/metrics'}}, 'health_checks': {'enabled': True, 'endpoints': [{'name': 'database', 'url': '/health/db', 'interval': '30s'}, {'name': 'redis', 'url': '/health/redis', 'interval': '15s'}]}}, 'environment_variables': {'production': {'API_KEY': 'prod-api-key', 'DEBUG': False}, 'staging': {'API_KEY': 'stage-api-key', 'DEBUG': True}}, 'security': {'ssl': {'enabled': True, 'cert_path': '/etc/ssl/cert.pem', 'key_path': '/etc/ssl/key.pem'}, 'cors': {'allowed_origins': ['https://example.com', 'https://api.example.com'], 'allowed_methods': ['GET', 'POST', 'PUT', 'DELETE']}, 'ip_whitelist': ['192.168.1.0/24', '10.0.0.0/8']}, 'schedules': {'cron': [{'name': 'backup_database', 'schedule': '0 0 * * *', 'command': '/scripts/backup.sh'}, {'name': 'clear_cache', 'schedule': '0 */4 * * *', 'command': '/scripts/clear-cache.sh'}]}}}\n"
     ]
    }
   ],
   "source": [
    "import yaml\n",
    "\n",
    "try:\n",
    "    from yaml import CLoader as Loader, CDumper as Dumper\n",
    "except ImportError:\n",
    "    from yaml import Loader, Dumper\n",
    "\n",
    "# Путь к файлу YAML\n",
    "yaml_file = 'yaml-example.yaml'\n",
    "\n",
    "# Загрузка файла YAML\n",
    "data = yaml.load(open(yaml_file, 'r'), Loader=Loader) \n",
    "\n",
    "# Вывод словаря\n",
    "print(data)\n"
   ]
  },
  {
   "cell_type": "code",
   "execution_count": 4,
   "metadata": {},
   "outputs": [
    {
     "data": {
      "text/plain": [
       "dict"
      ]
     },
     "execution_count": 4,
     "metadata": {},
     "output_type": "execute_result"
    }
   ],
   "source": [
    "type(data)"
   ]
  },
  {
   "cell_type": "code",
   "execution_count": 11,
   "metadata": {},
   "outputs": [],
   "source": [
    "headers = [f'{key}: {header}' for key, header in data['application'].items()]\n",
    "\n",
    "formatted_headers = '\\n'.join(headers)\n",
    "\n",
    "with open('DictFromYaml.txt','w',  encoding='utf-8') as file:\n",
    "    file.write(formatted_headers)"
   ]
  },
  {
   "cell_type": "code",
   "execution_count": null,
   "metadata": {},
   "outputs": [],
   "source": []
  }
 ],
 "metadata": {
  "kernelspec": {
   "display_name": "venv",
   "language": "python",
   "name": "python3"
  },
  "language_info": {
   "codemirror_mode": {
    "name": "ipython",
    "version": 3
   },
   "file_extension": ".py",
   "mimetype": "text/x-python",
   "name": "python",
   "nbconvert_exporter": "python",
   "pygments_lexer": "ipython3",
   "version": "3.12.8"
  }
 },
 "nbformat": 4,
 "nbformat_minor": 2
}
