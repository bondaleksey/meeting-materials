{
 "cells": [
  {
   "cell_type": "markdown",
   "metadata": {},
   "source": [
    "# Jinja2 \n",
    "\n",
    "[Jinja2 Docs][1]\n",
    "\n",
    "Хороший материал по Jinja2: \n",
    "[Jinja2 Tutorial By Przemek][2]\n",
    "\n",
    "[1]: https://jinja.palletsprojects.com/en/stable/\n",
    "[2]: https://ttl255.com/jinja2-tutorial-part-1-introduction-and-variable-substitution/"
   ]
  },
  {
   "cell_type": "markdown",
   "metadata": {},
   "source": [
    "# Принцип\n",
    "\n",
    "![Jinja2](img/j2-render-flow-nofill.png)"
   ]
  },
  {
   "cell_type": "markdown",
   "metadata": {},
   "source": [
    "# Примеры"
   ]
  },
  {
   "cell_type": "markdown",
   "metadata": {},
   "source": [
    "## Просто вставка"
   ]
  },
  {
   "cell_type": "code",
   "execution_count": 8,
   "metadata": {},
   "outputs": [],
   "source": [
    "from jinja2 import Template"
   ]
  },
  {
   "cell_type": "code",
   "execution_count": 12,
   "metadata": {},
   "outputs": [],
   "source": [
    "template = \"\"\" Name {{name}} has idea: \\\"{{credo}}\\\"!\"\"\""
   ]
  },
  {
   "cell_type": "code",
   "execution_count": 13,
   "metadata": {},
   "outputs": [],
   "source": [
    "data = {\n",
    "    \"name\": \"Alex\",\n",
    "    \"credo\": \"Never stop learning\"\n",
    "}"
   ]
  },
  {
   "cell_type": "code",
   "execution_count": 14,
   "metadata": {},
   "outputs": [
    {
     "name": "stdout",
     "output_type": "stream",
     "text": [
      " Name Alex has idea: \"Never stop learning\"!\n"
     ]
    }
   ],
   "source": [
    "j2_template = Template(template)\n",
    "\n",
    "print(j2_template.render(data))"
   ]
  },
  {
   "cell_type": "markdown",
   "metadata": {},
   "source": [
    "## Циклы"
   ]
  },
  {
   "cell_type": "code",
   "execution_count": 45,
   "metadata": {},
   "outputs": [],
   "source": [
    "range_template = \"\"\"\n",
    "{% for number in range( 2, 6 ) %}\n",
    "    Подсчет в range number = {{ number }}\n",
    "{% endfor %}\n",
    "\"\"\""
   ]
  },
  {
   "cell_type": "code",
   "execution_count": 46,
   "metadata": {},
   "outputs": [],
   "source": [
    "range_data = {\n",
    "    \"object\": 5\n",
    "}"
   ]
  },
  {
   "cell_type": "code",
   "execution_count": 47,
   "metadata": {},
   "outputs": [
    {
     "name": "stdout",
     "output_type": "stream",
     "text": [
      "\n",
      "\n",
      "    Подсчет в range number = 2\n",
      "\n",
      "    Подсчет в range number = 3\n",
      "\n",
      "    Подсчет в range number = 4\n",
      "\n",
      "    Подсчет в range number = 5\n",
      "\n"
     ]
    }
   ],
   "source": [
    "j2_range_template = Template(range_template)\n",
    "\n",
    "print(j2_range_template.render(range_data))"
   ]
  },
  {
   "cell_type": "code",
   "execution_count": 20,
   "metadata": {},
   "outputs": [
    {
     "name": "stdout",
     "output_type": "stream",
     "text": [
      "<ul>\n",
      "  <!-- Начало цикла -->\n",
      "    <li>Яблоки</li>  <!-- Вывод каждого элемента списка -->\n",
      "  <!-- Начало цикла -->\n",
      "    <li>Бананы</li>  <!-- Вывод каждого элемента списка -->\n",
      "  <!-- Начало цикла -->\n",
      "    <li>Груши</li>  <!-- Вывод каждого элемента списка -->\n",
      "            <!-- Конец цикла -->\n",
      "</ul>\n"
     ]
    }
   ],
   "source": [
    "from jinja2 import Environment, FileSystemLoader\n",
    "\n",
    "env = Environment(loader=FileSystemLoader('templates'))\n",
    "template = env.get_template('template_for.jinja2')\n",
    "\n",
    "items = ['Яблоки', 'Бананы', 'Груши']  # Список фруктов\n",
    "result = template.render(items=items)   # Рендерим шаблон\n",
    "print(result)  # Вывод результата\n"
   ]
  },
  {
   "cell_type": "code",
   "execution_count": 53,
   "metadata": {},
   "outputs": [
    {
     "name": "stdout",
     "output_type": "stream",
     "text": [
      "<h1>Список товаров</h1>\n",
      "<ul>\n",
      "\n",
      "    <li>\n",
      "        <strong>Название:</strong> Ноутбук <br>\n",
      "        <strong>Цена:</strong> 800 руб. <br>\n",
      "        <strong>Доступно:</strong> Да <br>\n",
      "        <strong>Категории:</strong>\n",
      "        <ul>\n",
      "        \n",
      "            <li>Электроника</li>  <!-- Вывод категорий товара -->\n",
      "        \n",
      "            <li>Компьютеры</li>  <!-- Вывод категорий товара -->\n",
      "        \n",
      "        </ul>\n",
      "    </li>\n",
      "\n",
      "    <li>\n",
      "        <strong>Название:</strong> Смартфон <br>\n",
      "        <strong>Цена:</strong> 600 руб. <br>\n",
      "        <strong>Доступно:</strong> Нет <br>\n",
      "        <strong>Категории:</strong>\n",
      "        <ul>\n",
      "        \n",
      "            <li>Электроника</li>  <!-- Вывод категорий товара -->\n",
      "        \n",
      "            <li>Мобильные устройства</li>  <!-- Вывод категорий товара -->\n",
      "        \n",
      "        </ul>\n",
      "    </li>\n",
      "\n",
      "    <li>\n",
      "        <strong>Название:</strong> Наушники <br>\n",
      "        <strong>Цена:</strong> 50 руб. <br>\n",
      "        <strong>Доступно:</strong> Да <br>\n",
      "        <strong>Категории:</strong>\n",
      "        <ul>\n",
      "        \n",
      "            <li>Аудио</li>  <!-- Вывод категорий товара -->\n",
      "        \n",
      "            <li>Аксессуары</li>  <!-- Вывод категорий товара -->\n",
      "        \n",
      "        </ul>\n",
      "    </li>\n",
      "\n",
      "</ul>\n"
     ]
    }
   ],
   "source": [
    "from jinja2 import Environment, FileSystemLoader\n",
    "\n",
    "env = Environment(loader=FileSystemLoader('templates'))\n",
    "template = env.get_template('template2.jinja2')\n",
    "\n",
    "# Вложенные структуры данных\n",
    "products = [\n",
    "    {\n",
    "        'name': 'Ноутбук',\n",
    "        'price': 800,\n",
    "        'categories': ['Электроника', 'Компьютеры'],\n",
    "        'is_available': True\n",
    "    },\n",
    "    {\n",
    "        'name': 'Смартфон',\n",
    "        'price': 600,\n",
    "        'categories': ['Электроника', 'Мобильные устройства'],\n",
    "        'is_available': False\n",
    "    },\n",
    "    {\n",
    "        'name': 'Наушники',\n",
    "        'price': 50,\n",
    "        'categories': ['Аудио', 'Аксессуары'],\n",
    "        'is_available': True\n",
    "    },\n",
    "]\n",
    "\n",
    "result = template.render(products=products)  # Рендерим шаблон с данными\n",
    "print(result)  # Вывод результата\n"
   ]
  },
  {
   "cell_type": "code",
   "execution_count": null,
   "metadata": {},
   "outputs": [],
   "source": []
  },
  {
   "cell_type": "code",
   "execution_count": null,
   "metadata": {},
   "outputs": [],
   "source": []
  }
 ],
 "metadata": {
  "kernelspec": {
   "display_name": "venv",
   "language": "python",
   "name": "python3"
  },
  "language_info": {
   "codemirror_mode": {
    "name": "ipython",
    "version": 3
   },
   "file_extension": ".py",
   "mimetype": "text/x-python",
   "name": "python",
   "nbconvert_exporter": "python",
   "pygments_lexer": "ipython3",
   "version": "3.12.8"
  }
 },
 "nbformat": 4,
 "nbformat_minor": 2
}
