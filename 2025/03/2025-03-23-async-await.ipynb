{
 "cells": [
  {
   "cell_type": "markdown",
   "metadata": {},
   "source": [
    "Определим декоратор для измерения времени асинхронных функций"
   ]
  },
  {
   "cell_type": "code",
   "execution_count": 1,
   "metadata": {},
   "outputs": [],
   "source": [
    "import functools\n",
    "import time\n",
    "from typing import Callable, Any\n",
    "\n",
    "\n",
    "def async_timed():\n",
    "    def wrapper(func: Callable) -> Callable:\n",
    "        @functools.wraps(func)\n",
    "        async def wrapped(*args, **kwargs) -> Any:\n",
    "            print(f'starting {func} with args {args} {kwargs}')\n",
    "            start = time.time()\n",
    "            try:\n",
    "                return await func(*args, **kwargs)\n",
    "            finally:\n",
    "                end = time.time()\n",
    "                total = end - start\n",
    "                print(f'finished {func} in {total:.4f} second(s)')\n",
    "\n",
    "        return wrapped\n",
    "\n",
    "    return wrapper"
   ]
  },
  {
   "cell_type": "markdown",
   "metadata": {},
   "source": [
    "определим ключевую асинхронную функцию, которая позволяет выполнять код параллельно "
   ]
  },
  {
   "cell_type": "code",
   "execution_count": 3,
   "metadata": {},
   "outputs": [],
   "source": [
    "import asyncio\n",
    "\n",
    "@async_timed()\n",
    "async def delay(delay_seconds: int) -> int:\n",
    "    print(f'sleeping for {delay_seconds} second(s)')\n",
    "    await asyncio.sleep(delay_seconds)\n",
    "    print(f'finished sleeping for {delay_seconds} second(s)')\n",
    "    return delay_seconds"
   ]
  },
  {
   "cell_type": "code",
   "execution_count": 5,
   "metadata": {},
   "outputs": [],
   "source": [
    "@async_timed()\n",
    "async def test_01():\n",
    "    first_delay_call = await delay(2)\n",
    "    second_delay_call = await delay(3)"
   ]
  },
  {
   "cell_type": "code",
   "execution_count": 8,
   "metadata": {},
   "outputs": [
    {
     "name": "stdout",
     "output_type": "stream",
     "text": [
      "starting <function test_01 at 0x0000022B1DEA1440> with args () {}\n",
      "starting <function delay at 0x0000022B1DCFD120> with args (2,) {}\n",
      "sleeping for 2 second(s)\n",
      "finished sleeping for 2 second(s)\n",
      "finished <function delay at 0x0000022B1DCFD120> in 2.0056 second(s)\n",
      "starting <function delay at 0x0000022B1DCFD120> with args (3,) {}\n",
      "sleeping for 3 second(s)\n",
      "finished sleeping for 3 second(s)\n",
      "finished <function delay at 0x0000022B1DCFD120> in 3.0023 second(s)\n",
      "finished <function test_01 at 0x0000022B1DEA1440> in 5.0079 second(s)\n"
     ]
    }
   ],
   "source": [
    "await test_01()"
   ]
  },
  {
   "cell_type": "code",
   "execution_count": 9,
   "metadata": {},
   "outputs": [],
   "source": [
    "@async_timed()\n",
    "async def test_02():\n",
    "    first_task = asyncio.create_task(delay(2))\n",
    "    second_task = asyncio.create_task(delay(3))\n",
    "    \n",
    "    await first_task\n",
    "    await second_task"
   ]
  },
  {
   "cell_type": "code",
   "execution_count": 10,
   "metadata": {},
   "outputs": [
    {
     "name": "stdout",
     "output_type": "stream",
     "text": [
      "starting <function test_02 at 0x0000022B1E358360> with args () {}\n",
      "starting <function delay at 0x0000022B1DCFD120> with args (2,) {}\n",
      "sleeping for 2 second(s)\n",
      "starting <function delay at 0x0000022B1DCFD120> with args (3,) {}\n",
      "sleeping for 3 second(s)\n",
      "finished sleeping for 2 second(s)\n",
      "finished <function delay at 0x0000022B1DCFD120> in 2.0094 second(s)\n",
      "finished sleeping for 3 second(s)\n",
      "finished <function delay at 0x0000022B1DCFD120> in 2.9997 second(s)\n",
      "finished <function test_02 at 0x0000022B1E358360> in 2.9997 second(s)\n"
     ]
    }
   ],
   "source": [
    "await test_02()"
   ]
  },
  {
   "cell_type": "markdown",
   "metadata": {},
   "source": [
    "Рассмотрим вычислительно сложные задачи"
   ]
  },
  {
   "cell_type": "code",
   "execution_count": null,
   "metadata": {},
   "outputs": [],
   "source": [
    "@async_timed()\n",
    "async def cpu_bound_work(number: int = 100000000) -> int:\n",
    "    counter = 0\n",
    "    for i in range(number):\n",
    "        counter = counter + 1\n",
    "    return counter"
   ]
  },
  {
   "cell_type": "code",
   "execution_count": 12,
   "metadata": {},
   "outputs": [
    {
     "name": "stdout",
     "output_type": "stream",
     "text": [
      "starting <function cpu_bound_work at 0x0000022B1E358900> with args () {}\n",
      "finished <function cpu_bound_work at 0x0000022B1E358900> in 2.3243 second(s)\n"
     ]
    },
    {
     "data": {
      "text/plain": [
       "100000000"
      ]
     },
     "execution_count": 12,
     "metadata": {},
     "output_type": "execute_result"
    }
   ],
   "source": [
    "await cpu_bound_work()"
   ]
  },
  {
   "cell_type": "code",
   "execution_count": 13,
   "metadata": {},
   "outputs": [],
   "source": [
    "@async_timed()\n",
    "async def test_03():\n",
    "    task_one = asyncio.create_task(cpu_bound_work())\n",
    "    task_two = asyncio.create_task(cpu_bound_work())\n",
    "    await task_one\n",
    "    await task_two"
   ]
  },
  {
   "cell_type": "code",
   "execution_count": 14,
   "metadata": {},
   "outputs": [
    {
     "name": "stdout",
     "output_type": "stream",
     "text": [
      "starting <function test_03 at 0x0000022B1E359300> with args () {}\n",
      "starting <function cpu_bound_work at 0x0000022B1E358900> with args () {}\n",
      "finished <function cpu_bound_work at 0x0000022B1E358900> in 2.2699 second(s)\n",
      "starting <function cpu_bound_work at 0x0000022B1E358900> with args () {}\n",
      "finished <function cpu_bound_work at 0x0000022B1E358900> in 2.2943 second(s)\n",
      "finished <function test_03 at 0x0000022B1E359300> in 4.5642 second(s)\n"
     ]
    }
   ],
   "source": [
    "await test_03()"
   ]
  },
  {
   "cell_type": "code",
   "execution_count": 15,
   "metadata": {},
   "outputs": [],
   "source": [
    "@async_timed()\n",
    "async def test_04():\n",
    "    task_one = asyncio.create_task(cpu_bound_work())\n",
    "    task_two = asyncio.create_task(cpu_bound_work())\n",
    "    delay_task = asyncio.create_task(delay(2))\n",
    "    await task_one\n",
    "    await task_two\n",
    "    await delay_task"
   ]
  },
  {
   "cell_type": "code",
   "execution_count": 16,
   "metadata": {},
   "outputs": [
    {
     "name": "stdout",
     "output_type": "stream",
     "text": [
      "starting <function test_04 at 0x0000022B1E359440> with args () {}\n",
      "starting <function cpu_bound_work at 0x0000022B1E358900> with args () {}\n",
      "finished <function cpu_bound_work at 0x0000022B1E358900> in 2.3157 second(s)\n",
      "starting <function cpu_bound_work at 0x0000022B1E358900> with args () {}\n",
      "finished <function cpu_bound_work at 0x0000022B1E358900> in 2.2628 second(s)\n",
      "starting <function delay at 0x0000022B1DCFD120> with args (2,) {}\n",
      "sleeping for 2 second(s)\n",
      "finished sleeping for 2 second(s)\n",
      "finished <function delay at 0x0000022B1DCFD120> in 2.0018 second(s)\n",
      "finished <function test_04 at 0x0000022B1E359440> in 6.5813 second(s)\n"
     ]
    }
   ],
   "source": [
    "await test_04()"
   ]
  },
  {
   "cell_type": "code",
   "execution_count": 17,
   "metadata": {},
   "outputs": [],
   "source": [
    "@async_timed()\n",
    "async def test_05():\n",
    "    delay_task = asyncio.create_task(delay(2))\n",
    "    task_one = asyncio.create_task(cpu_bound_work())\n",
    "    task_two = asyncio.create_task(cpu_bound_work())\n",
    "    await delay_task\n",
    "    await task_one\n",
    "    await task_two"
   ]
  },
  {
   "cell_type": "code",
   "execution_count": 18,
   "metadata": {},
   "outputs": [
    {
     "name": "stdout",
     "output_type": "stream",
     "text": [
      "starting <function test_05 at 0x0000022B1E359A80> with args () {}\n",
      "starting <function delay at 0x0000022B1DCFD120> with args (2,) {}\n",
      "sleeping for 2 second(s)\n",
      "starting <function cpu_bound_work at 0x0000022B1E358900> with args () {}\n",
      "finished <function cpu_bound_work at 0x0000022B1E358900> in 2.2425 second(s)\n",
      "starting <function cpu_bound_work at 0x0000022B1E358900> with args () {}\n",
      "finished <function cpu_bound_work at 0x0000022B1E358900> in 2.2532 second(s)\n",
      "finished sleeping for 2 second(s)\n",
      "finished <function delay at 0x0000022B1DCFD120> in 4.4957 second(s)\n",
      "finished <function test_05 at 0x0000022B1E359A80> in 4.4957 second(s)\n"
     ]
    }
   ],
   "source": [
    "await test_05()"
   ]
  },
  {
   "cell_type": "code",
   "execution_count": 19,
   "metadata": {},
   "outputs": [],
   "source": [
    "@async_timed()\n",
    "async def test_06():\n",
    "    task_one = asyncio.create_task(cpu_bound_work())\n",
    "    delay_task = asyncio.create_task(delay(2))\n",
    "    task_two = asyncio.create_task(cpu_bound_work())\n",
    "    await task_one\n",
    "    await delay_task\n",
    "    await task_two"
   ]
  },
  {
   "cell_type": "code",
   "execution_count": 20,
   "metadata": {},
   "outputs": [
    {
     "name": "stdout",
     "output_type": "stream",
     "text": [
      "starting <function test_06 at 0x0000022B1E35A8E0> with args () {}\n",
      "starting <function cpu_bound_work at 0x0000022B1E358900> with args () {}\n",
      "finished <function cpu_bound_work at 0x0000022B1E358900> in 2.3133 second(s)\n",
      "starting <function delay at 0x0000022B1DCFD120> with args (2,) {}\n",
      "sleeping for 2 second(s)\n",
      "starting <function cpu_bound_work at 0x0000022B1E358900> with args () {}\n",
      "finished <function cpu_bound_work at 0x0000022B1E358900> in 2.2438 second(s)\n",
      "finished sleeping for 2 second(s)\n",
      "finished <function delay at 0x0000022B1DCFD120> in 2.2438 second(s)\n",
      "finished <function test_06 at 0x0000022B1E35A8E0> in 4.5571 second(s)\n"
     ]
    }
   ],
   "source": [
    "await test_06()"
   ]
  }
 ],
 "metadata": {
  "kernelspec": {
   "display_name": ".venv",
   "language": "python",
   "name": "python3"
  },
  "language_info": {
   "codemirror_mode": {
    "name": "ipython",
    "version": 3
   },
   "file_extension": ".py",
   "mimetype": "text/x-python",
   "name": "python",
   "nbconvert_exporter": "python",
   "pygments_lexer": "ipython3",
   "version": "3.12.9"
  }
 },
 "nbformat": 4,
 "nbformat_minor": 2
}
