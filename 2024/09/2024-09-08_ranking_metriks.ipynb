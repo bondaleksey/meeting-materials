{
 "cells": [
  {
   "cell_type": "markdown",
   "metadata": {},
   "source": [
    "Темы: \n",
    "- метрики при ранжировании\n",
    "- MLSysDes в задачах/хакатонах (задача на ТЗ) "
   ]
  },
  {
   "cell_type": "markdown",
   "metadata": {},
   "source": [
    "# Задачи ранжирования\n",
    "Разбивается на 2 подзадачи:\n",
    "- выбрать/отобрать нужных кандидатов на ранжирование,\n",
    "- осуществить процесс ранжирования\n",
    "\n",
    "\n",
    "[Лекция Воронцова][1]\n",
    "\n",
    "[Yandex ml book статья][2]\n",
    "\n",
    "[Ким Фальк???]\n",
    "\n",
    "[1]:\n",
    "\n",
    "[2]:"
   ]
  },
  {
   "cell_type": "markdown",
   "metadata": {},
   "source": [
    "## Какие у нас X, Y Примеры!!!"
   ]
  },
  {
   "cell_type": "markdown",
   "metadata": {},
   "source": [
    "\n",
    "## Как осуществляется отбор кандидатов +/- \n",
    "- случайно,\n",
    "- потом среди Ложноположительных которые (y = -1, a(x) = 1)\n",
    "\n",
    "\n",
    "\n"
   ]
  },
  {
   "cell_type": "markdown",
   "metadata": {},
   "source": [
    "## Виды проведения обучения \n",
    "- pointwise \n",
    "- pairwise \n",
    "- list"
   ]
  },
  {
   "cell_type": "markdown",
   "metadata": {},
   "source": [
    "## Лоссфункции\n",
    "\n",
    "?? Про что говорить??\n",
    "\n",
    "- [PairwiseLogisticLoss][1]\n",
    "- [PairwiseHingeLoss][2]\n",
    "- [PairwiseMSELoss][3]\n",
    "\n",
    "[1]: https://www.tensorflow.org/ranking/api_docs/python/tfr/keras/losses/PairwiseLogisticLoss\n",
    "[2]: https://www.tensorflow.org/ranking/api_docs/python/tfr/keras/losses/PairwiseHingeLoss\n",
    "[3]: https://www.tensorflow.org/ranking/api_docs/python/tfr/keras/losses/PairwiseMSELoss"
   ]
  },
  {
   "cell_type": "markdown",
   "metadata": {},
   "source": [
    "## Сами метрики модели!\n",
    "- precision@k, \n",
    "- recall@k,\n",
    "- AP@k,\n",
    "- MAP@k,\n",
    "- nDCG"
   ]
  },
  {
   "cell_type": "markdown",
   "metadata": {},
   "source": [
    "## Какие есть особенности деплоя в задачах ранжирования?"
   ]
  },
  {
   "cell_type": "markdown",
   "metadata": {},
   "source": []
  },
  {
   "cell_type": "code",
   "execution_count": null,
   "metadata": {},
   "outputs": [],
   "source": []
  }
 ],
 "metadata": {
  "language_info": {
   "name": "python"
  }
 },
 "nbformat": 4,
 "nbformat_minor": 2
}
