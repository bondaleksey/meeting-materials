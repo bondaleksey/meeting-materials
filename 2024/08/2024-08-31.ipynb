{
 "cells": [
  {
   "cell_type": "markdown",
   "metadata": {},
   "source": [
    "# Темы от меня\n",
    "### 1. Рассказ про метрики\n",
    "\n",
    "- В том числе и про метрики в ранжировании precision@k, recall@k, AP@k, MAP@k, nDCG\n",
    "\n",
    "### 2. ROG-AUG \n",
    "У доски разобрать [материалы][1]:\n",
    "\n",
    "- формулу \n",
    "- как стоим Рог Кривую  \n",
    "- можем попробовать к ней (задаче в посте) построить PR-curve\n",
    "\n",
    "[1]: https://alexanderdyakonov.wordpress.com/2017/07/28/auc-roc-%D0%BF%D0%BB%D0%BE%D1%89%D0%B0%D0%B4%D1%8C-%D0%BF%D0%BE%D0%B4-%D0%BA%D1%80%D0%B8%D0%B2%D0%BE%D0%B9-%D0%BE%D1%88%D0%B8%D0%B1%D0%BE%D0%BA/"
   ]
  },
  {
   "cell_type": "markdown",
   "metadata": {},
   "source": [
    "# Тема: Метрики \n",
    "\n",
    "### План:\n",
    "1. Бизнес цель \n",
    "2. Общий взгляд оптимизации по данным (блумрег)\n",
    "3. Оценки алгоритма (в рамках выбранных признаков и данных)\n",
    "4. Оценка модели (метрики) (модель = (алгоритм, признаки, данные) в рамках бизнес постановки) (offline/Online(?) = ML метрики)\n",
    "5. Оценка сервиса (метрики MLops, DevOps)\n",
    "6. Оценка бизнесом собранного инструмента (иерархия бизнес метрик) (была книга)"
   ]
  },
  {
   "cell_type": "markdown",
   "metadata": {},
   "source": [
    "## 1. Бизнес\n",
    "Много разных целей на разных этапах развития проекта.\n",
    "- выигрыш сейчас,\n",
    "- выигрыш в долгую,\n",
    "- рост клиентов,\n",
    "- рост стоимости (за счет AI в буклетах),\n",
    "\n",
    "на разных этапах можно проигрывать в деньгах (еще нет клиентов, но есть расходы на разработку и продвижение ... )"
   ]
  },
  {
   "cell_type": "markdown",
   "metadata": {},
   "source": [
    "## 2. Оптимизация\n",
    "[лекции от блумберг][1] = лекция 3 и 5 \n",
    "\n",
    "[1]: https://bloomberg.github.io/foml/#lectures\n",
    "\n"
   ]
  },
  {
   "cell_type": "markdown",
   "metadata": {},
   "source": [
    "Риск определяется как:\n",
    "\n",
    "$$ R(f) = \\mathbb{E} l(f(x),y)  $$\n",
    "\n",
    "Ожидаемая потеря на новых данных случайно взятых из некоторого распределения данных.\n",
    "\n",
    "В действительности мы не знаем реальное распределение данных, но мы можем оценить на тех данных, что у нас есть."
   ]
  },
  {
   "cell_type": "markdown",
   "metadata": {},
   "source": [
    "**The Empirical Risk Functional**\n",
    "\n",
    "Пусть у нас есть $data = ((x_1, y_1), ..., (x_n, y_n))$\n",
    "\n",
    "$$ \\hat{R}(f) = \\frac{1}{n} \\sum_{i=1}^{n} l(f(x_i),y_i)  $$\n",
    "\n",
    "\n",
    "**Empirical Risk Minimization**\n",
    "\n",
    "$ \\hat{f} $ - оптимальное решение для эмпирического риска, когда \n",
    "\n",
    "$$ \\hat{f} = \\argmin_{f} \\hat{R}_n(f)$$\n"
   ]
  },
  {
   "cell_type": "markdown",
   "metadata": {},
   "source": [
    "Пример. \n",
    "\n",
    "Пусть X задано на [0,1], Y ≡ 1 (Y всегда 1). Допустим, что $data = ((0.25, 1), (0.5,1), (0.75, 1))$\n",
    "\n",
    "Пусть \n",
    "$ \\hat{f}  = 1(x \\in {0.25, 0.5, 0.75})$ \n",
    "\n",
    "Что тогда мы получаем?\n",
    "\n",
    "Эмпирический риск для $ \\hat{f} = 0$, но сам риск = 1. \n",
    " "
   ]
  },
  {
   "cell_type": "markdown",
   "metadata": {},
   "source": [
    "Для лучшего обобщения вводят поиск не на всем множестве функции, а на некоторых наборах функциях. Эти наборы функций и определяют разные методы ML.\n"
   ]
  },
  {
   "cell_type": "markdown",
   "metadata": {},
   "source": [
    "![image.png](../08/Error_decomposition.jpg)"
   ]
  },
  {
   "cell_type": "markdown",
   "metadata": {},
   "source": [
    "## 3. Оценка алгоритма (Функция потерь)\n",
    "\n",
    "### 3.1 Для задач регрессии\n"
   ]
  },
  {
   "cell_type": "markdown",
   "metadata": {},
   "source": [
    "#### 3.1.1 MSE\n",
    "\n",
    "Оптимальное решение = среднее (как доказать?)"
   ]
  },
  {
   "cell_type": "code",
   "execution_count": 2,
   "metadata": {},
   "outputs": [],
   "source": [
    "def MSE(ax,y):\n",
    "    if len(ax)!= len(y):\n",
    "        print(\"len(ax)!= len(y)\")\n",
    "        return -1\n",
    "    \n",
    "    res = 0\n",
    "    for i in range(len(y)):\n",
    "        res+= (y[i]-ax[i])**2\n",
    "    return res"
   ]
  },
  {
   "cell_type": "markdown",
   "metadata": {},
   "source": [
    "Домашнее задание:\n",
    "1. Придумать однострочник вида `return sum ()`.\n",
    "2. Как реализовать эффективно через Numpy?"
   ]
  },
  {
   "cell_type": "markdown",
   "metadata": {},
   "source": [
    "#### 3.1.2 MAE\n",
    "Оптимальное решение = медиана "
   ]
  },
  {
   "cell_type": "code",
   "execution_count": 1,
   "metadata": {},
   "outputs": [],
   "source": [
    "def MAE(ax,y):\n",
    "    if len(ax)!= len(y):\n",
    "        print(\"len(ax)!= len(y)\")\n",
    "        return -1\n",
    "    \n",
    "    res = 0\n",
    "    for i in range(len(y)):\n",
    "        res+= abs(y[i]-ax[i])\n",
    "    return res"
   ]
  },
  {
   "cell_type": "markdown",
   "metadata": {},
   "source": [
    "MAE vs MSE"
   ]
  },
  {
   "cell_type": "code",
   "execution_count": 3,
   "metadata": {},
   "outputs": [],
   "source": [
    "# Примеры\n",
    "# target\n",
    "y = [100]*10\n",
    "# model 1 \n",
    "ax1 = [100]*9 + [900]\n",
    "# model 2 \n",
    "ax2 = [200]*10"
   ]
  },
  {
   "cell_type": "code",
   "execution_count": 4,
   "metadata": {},
   "outputs": [
    {
     "data": {
      "text/plain": [
       "640000"
      ]
     },
     "execution_count": 4,
     "metadata": {},
     "output_type": "execute_result"
    }
   ],
   "source": [
    "MSE(ax1, y)"
   ]
  },
  {
   "cell_type": "code",
   "execution_count": 5,
   "metadata": {},
   "outputs": [
    {
     "data": {
      "text/plain": [
       "800"
      ]
     },
     "execution_count": 5,
     "metadata": {},
     "output_type": "execute_result"
    }
   ],
   "source": [
    "MAE(ax1, y)"
   ]
  },
  {
   "cell_type": "code",
   "execution_count": 6,
   "metadata": {},
   "outputs": [
    {
     "data": {
      "text/plain": [
       "100000"
      ]
     },
     "execution_count": 6,
     "metadata": {},
     "output_type": "execute_result"
    }
   ],
   "source": [
    "MSE(ax2, y)"
   ]
  },
  {
   "cell_type": "code",
   "execution_count": 7,
   "metadata": {},
   "outputs": [
    {
     "data": {
      "text/plain": [
       "1000"
      ]
     },
     "execution_count": 7,
     "metadata": {},
     "output_type": "execute_result"
    }
   ],
   "source": [
    "MAE(ax2, y)"
   ]
  },
  {
   "cell_type": "markdown",
   "metadata": {},
   "source": [
    "#### 3.1.3 MAPE, sMAPE, wMAPE \n",
    "Придумать примеры, когда лучше одна или другая?"
   ]
  },
  {
   "cell_type": "markdown",
   "metadata": {},
   "source": [
    "### 3.2 Для задач классификации\n",
    "\n",
    "https://proproprogs.ru/ml/ml-funkcii-poter-v-zadachah-lineynoy-binarnoy-klassifikacii\n",
    "\n",
    "<!-- ![image.png](../08/bin_class_loss.png) -->\n",
    "<img src=\"../08/bin_class_loss.png\" alt=\"drawing\" width=\"700\"/>"
   ]
  },
  {
   "cell_type": "markdown",
   "metadata": {},
   "source": [
    " - $V(M) = (1-M)_+$ - кусочно-линейная (SVM);\n",
    " - $H(M) = (-M)_+$ - кусочно-линейная (Hebb’s rule);\n",
    " - $L(M) = log_2(1+ e^{-M})$ -  логарифмическая (LR);\n",
    " - $Q(M) = (1-M)^2$ - квадратичная (FLD);\n",
    " - $S(M) = 2 \\cdot (1 + e^{M})^{-1}$ - сигмоидная (ANN);\n",
    " - $E(M) = e^{-M}$ - экспоненциальная (AdaBoost).\n",
    "\n",
    "Особенность всех этих функций (помимо того, что они всюду дифференцируемы) в том, что они по значению больше, либо раны исходной пороговой. Следовательно, минимизируя любую из них, мы автоматически будем минимизировать потери и при пороговой функции."
   ]
  },
  {
   "cell_type": "markdown",
   "metadata": {},
   "source": [
    "### 3.3 Для задач ранжирования\n",
    "#### 3.3.1 \n",
    "- [PairwiseLogisticLoss][1]\n",
    "- [PairwiseHingeLoss][2]\n",
    "- [PairwiseMSELoss][3]\n",
    "\n",
    "[1]: https://www.tensorflow.org/ranking/api_docs/python/tfr/keras/losses/PairwiseLogisticLoss\n",
    "[2]: https://www.tensorflow.org/ranking/api_docs/python/tfr/keras/losses/PairwiseHingeLoss\n",
    "[3]: https://www.tensorflow.org/ranking/api_docs/python/tfr/keras/losses/PairwiseMSELoss"
   ]
  },
  {
   "cell_type": "markdown",
   "metadata": {},
   "source": [
    "## 4. Метрики модели (как оцениваем модель)\n",
    "\n",
    "\n"
   ]
  },
  {
   "cell_type": "markdown",
   "metadata": {},
   "source": [
    "### 4.1 Для задач регрессии\n",
    "#### 4.1.1 \n"
   ]
  },
  {
   "cell_type": "markdown",
   "metadata": {},
   "source": [
    "\n",
    "### 4.2 Для задач классификации\n",
    "#### 4.2.1 Accuracy, Precision, Recall\n",
    "#### 4.2.2 ROG-AUG, PR-curve"
   ]
  },
  {
   "cell_type": "markdown",
   "metadata": {},
   "source": [
    "### 4.3 Для задач ранжирования\n",
    "#### 4.3.1 "
   ]
  },
  {
   "cell_type": "markdown",
   "metadata": {},
   "source": [
    "## 5. Оценка сервиса (метрики MLops, DevOps)\n"
   ]
  },
  {
   "cell_type": "markdown",
   "metadata": {},
   "source": [
    "## 6. Оценка бизнесом собранного инструмента (иерархия метрик) \n",
    "\n",
    "[Продуктовые метрики: какие они бывают и как ими пользоваться?][1]\n",
    "<!-- ![](../08/Product_metrics.webp) -->\n",
    "<img src=\"../08/Product_metrics.webp\" alt=\"drawing\" width=\"700\"/>\n",
    "\n",
    "\n",
    "[1]: https://vc.ru/marketing/310152-produktovye-metriki-kakie-oni-byvayut-i-kak-imi-polzovatsya"
   ]
  },
  {
   "cell_type": "markdown",
   "metadata": {},
   "source": [
    "[Базовые продуктовые метрики][2]\n",
    "\n",
    "[2]: https://vc.ru/marketing/314555-bazovye-produktovye-metriki"
   ]
  },
  {
   "cell_type": "markdown",
   "metadata": {},
   "source": [
    "\n",
    "(была книга)\n",
    "[Metrics Pyramid and Metrics Hierarchy][3]\n",
    "\n",
    "[3]: https://imaga.co/blog/analytics/metrics-pyramid-perhaps-the-best-way-to-understand-what-s-wrong-with-your-product/\n",
    "\n",
    "<!-- ![](../08/Business_metrics.webp) -->\n",
    "<img src=\"../08/Business_metrics.webp\" alt=\"drawing\" width=\"1200\"/>"
   ]
  },
  {
   "cell_type": "markdown",
   "metadata": {},
   "source": [
    "<!-- ![](../08/Business_metrics.webp) -->\n",
    "<img src=\"../08/Business_metrics2.webp\" alt=\"drawing\" width=\"1200\"/>"
   ]
  },
  {
   "cell_type": "code",
   "execution_count": null,
   "metadata": {},
   "outputs": [],
   "source": []
  }
 ],
 "metadata": {
  "kernelspec": {
   "display_name": "venv",
   "language": "python",
   "name": "python3"
  },
  "language_info": {
   "codemirror_mode": {
    "name": "ipython",
    "version": 3
   },
   "file_extension": ".py",
   "mimetype": "text/x-python",
   "name": "python",
   "nbconvert_exporter": "python",
   "pygments_lexer": "ipython3",
   "version": "3.11.6"
  }
 },
 "nbformat": 4,
 "nbformat_minor": 2
}
