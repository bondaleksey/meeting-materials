{
 "cells": [
  {
   "cell_type": "markdown",
   "metadata": {},
   "source": [
    "# Темы от меня\n",
    "### 1. Рассказ про метрики\n",
    "\n",
    "- В том числе и про метрики в ранжировании precision@k, recall@k, AP@k, MAP@k, nDCG\n",
    "\n",
    "### 2. ROG-AUG \n",
    "У доски разобрать [материалы][1]:\n",
    "\n",
    "- формулу \n",
    "- как стоим Рог Кривую  \n",
    "- можем попробовать к ней (задаче в посте) построить PR-curve\n",
    "\n",
    "[1]: https://alexanderdyakonov.wordpress.com/2017/07/28/auc-roc-%D0%BF%D0%BB%D0%BE%D1%89%D0%B0%D0%B4%D1%8C-%D0%BF%D0%BE%D0%B4-%D0%BA%D1%80%D0%B8%D0%B2%D0%BE%D0%B9-%D0%BE%D1%88%D0%B8%D0%B1%D0%BE%D0%BA/"
   ]
  },
  {
   "cell_type": "code",
   "execution_count": null,
   "metadata": {},
   "outputs": [],
   "source": []
  }
 ],
 "metadata": {
  "kernelspec": {
   "display_name": "venv",
   "language": "python",
   "name": "python3"
  },
  "language_info": {
   "name": "python",
   "version": "3.11.6"
  }
 },
 "nbformat": 4,
 "nbformat_minor": 2
}
