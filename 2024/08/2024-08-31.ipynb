{
 "cells": [
  {
   "cell_type": "markdown",
   "metadata": {},
   "source": [
    "# Темы от меня\n",
    "### 1. Рассказ про метрики\n",
    "\n",
    "- В том числе и про метрики в ранжировании precision@k, recall@k, AP@k, MAP@k, nDCG\n",
    "\n",
    "### 2. ROG-AUG \n",
    "У доски разобрать [материалы][1]:\n",
    "\n",
    "- формулу \n",
    "- как стоим Рог Кривую  \n",
    "- можем попробовать к ней (задаче в посте) построить PR-curve\n",
    "\n",
    "[1]: https://alexanderdyakonov.wordpress.com/2017/07/28/auc-roc-%D0%BF%D0%BB%D0%BE%D1%89%D0%B0%D0%B4%D1%8C-%D0%BF%D0%BE%D0%B4-%D0%BA%D1%80%D0%B8%D0%B2%D0%BE%D0%B9-%D0%BE%D1%88%D0%B8%D0%B1%D0%BE%D0%BA/"
   ]
  },
  {
   "cell_type": "markdown",
   "metadata": {},
   "source": [
    "# Тема: Метрики \n",
    "\n",
    "### План:\n",
    "1. Бизнес цель \n",
    "2. Общий взгляд оптимизации по данным (блумрег)\n",
    "3. Оценки алгоритма (в рамках выбранных признаков и данных)\n",
    "4. Оценка модели (метрики) (модель = (алгоритм, признаки, данные) в рамках бизнес постановки) (offline/Online(?) = ML метрики)\n",
    "5. Оценка сервиса (метрики MLops, DevOps)\n",
    "6. Оценка бизнесом собранного инструмента (иерархия бизнес метрик) (была книга)"
   ]
  },
  {
   "cell_type": "markdown",
   "metadata": {},
   "source": [
    "## 1. Бизнес\n",
    "Много разных целей на разных этапах развития проекта.\n",
    "- выигрыш сейчас,\n",
    "- выигрыш в долгую,\n",
    "- рост клиентов,\n",
    "- рост стоимости (за счет AI в буклетах),\n",
    "\n",
    "на разных этапах можно проигрывать в деньгах (еще нет клиентов, но есть расходы на разработку и продвижение ... )"
   ]
  },
  {
   "cell_type": "markdown",
   "metadata": {},
   "source": [
    "## 2. Оптимизация\n",
    "\n",
    "ссылка на лекции от блумберг = лекция 5"
   ]
  },
  {
   "cell_type": "markdown",
   "metadata": {},
   "source": [
    "## 3. Оценка алгоритма (Функция потерь)\n",
    "\n",
    "### 3.1 Для задач регрессии\n",
    "\n",
    "\n",
    "\n"
   ]
  },
  {
   "cell_type": "markdown",
   "metadata": {},
   "source": [
    "#### 3.1.1 MSE\n",
    "#### 3.1.2 MAE\n",
    "#### 3.1.3 MAPE, sMAPE, wMAPE "
   ]
  },
  {
   "cell_type": "markdown",
   "metadata": {},
   "source": [
    "### 3.2 Для задач классификации\n",
    "#### 3.2.1 \n",
    "#### 3.2.2 Несколько гладких функций, которые больше  "
   ]
  },
  {
   "cell_type": "markdown",
   "metadata": {},
   "source": [
    "### 3.3 Для задач ранжирования\n",
    "#### 3.3.1 "
   ]
  },
  {
   "cell_type": "markdown",
   "metadata": {},
   "source": [
    "## 4. Метрики модели (как оцениваем модель)\n",
    "\n",
    "\n"
   ]
  },
  {
   "cell_type": "markdown",
   "metadata": {},
   "source": [
    "### 4.1 Для задач регрессии\n",
    "#### 4.1.1 \n"
   ]
  },
  {
   "cell_type": "markdown",
   "metadata": {},
   "source": [
    "\n",
    "### 4.2 Для задач классификации\n",
    "#### 4.2.1 Accuracy, Precision, Recall\n",
    "#### 4.2.2 ROG-AUG, PR-curve"
   ]
  },
  {
   "cell_type": "markdown",
   "metadata": {},
   "source": [
    "### 4.3 Для задач ранжирования\n",
    "#### 4.3.1 "
   ]
  },
  {
   "cell_type": "markdown",
   "metadata": {},
   "source": [
    "## 5. Оценка сервиса (метрики MLops, DevOps)\n"
   ]
  },
  {
   "cell_type": "markdown",
   "metadata": {},
   "source": [
    "## 6. Оценка бизнесом собранного инструмента (иерархия бизнес метрик) \n",
    "\n",
    "(была книга)"
   ]
  },
  {
   "cell_type": "code",
   "execution_count": null,
   "metadata": {},
   "outputs": [],
   "source": []
  }
 ],
 "metadata": {
  "kernelspec": {
   "display_name": "venv",
   "language": "python",
   "name": "python3"
  },
  "language_info": {
   "name": "python",
   "version": "3.11.6"
  }
 },
 "nbformat": 4,
 "nbformat_minor": 2
}
