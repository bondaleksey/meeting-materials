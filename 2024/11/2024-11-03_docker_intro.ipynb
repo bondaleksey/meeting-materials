{
 "cells": [
  {
   "cell_type": "markdown",
   "metadata": {},
   "source": [
    "\n",
    "\n",
    "1) Зарегистрироваться на [Docker Hub](https://hub.docker.com/)\n",
    "\n",
    "2) Зайти на сайт игровой площадки с докером [PWD](https://labs.play-with-docker.com/)"
   ]
  }
 ],
 "metadata": {
  "language_info": {
   "name": "python"
  }
 },
 "nbformat": 4,
 "nbformat_minor": 2
}
