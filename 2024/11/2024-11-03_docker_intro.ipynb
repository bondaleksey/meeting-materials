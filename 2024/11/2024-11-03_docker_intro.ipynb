{
 "cells": [
  {
   "cell_type": "markdown",
   "metadata": {},
   "source": [
    "\n",
    "\n",
    "1) Зарегистрироваться на [Docker Hub](https://hub.docker.com/)\n",
    "\n",
    "2) Зайти на сайт игровой площадки с докером [PWD](https://labs.play-with-docker.com/)"
   ]
  },
  {
   "cell_type": "markdown",
   "metadata": {},
   "source": [
    "Теперь мы готовы к работе на виртуальной машине с докером\n",
    "\n",
    "На сайте PWD нажимаем зеленую кнопку `Начать`.\n",
    "\n"
   ]
  },
  {
   "cell_type": "markdown",
   "metadata": {},
   "source": [
    "## Первые команды\n",
    "\n",
    "- `docker version`\n",
    "- `clear`\n",
    "- `docker run -d -p 8800:80 httpd`"
   ]
  },
  {
   "cell_type": "markdown",
   "metadata": {},
   "source": [
    "Мы в бекграунде запускаем [образ](https://hub.docker.com/_/httpd)\n"
   ]
  },
  {
   "cell_type": "markdown",
   "metadata": {},
   "source": [
    "`curl localhost:8800`\n",
    "\n",
    "Что выдает сервер, который мы только что запустили из образа? "
   ]
  },
  {
   "cell_type": "markdown",
   "metadata": {},
   "source": [
    "`docker ps`\n",
    "\n",
    "А что у нас запущено как образы?"
   ]
  },
  {
   "cell_type": "markdown",
   "metadata": {},
   "source": [
    "Так как у нас есть изолированность процессов в докере. Запустим новый сервер с новым портом.\n",
    "\n",
    "`docker run -d -p 8801:80 httpd`"
   ]
  },
  {
   "cell_type": "markdown",
   "metadata": {},
   "source": [
    "У нас 2 образа у каждого из них внутри работа по порту `80`.\n",
    "\n",
    "Но мы работа к ним перенаправляется с наших портов `8800` и `8801` "
   ]
  }
 ],
 "metadata": {
  "language_info": {
   "name": "python"
  }
 },
 "nbformat": 4,
 "nbformat_minor": 2
}
